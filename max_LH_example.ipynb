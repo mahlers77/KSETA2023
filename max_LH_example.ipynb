{
 "cells": [
  {
   "cell_type": "code",
   "execution_count": 90,
   "metadata": {},
   "outputs": [],
   "source": [
    "import numpy as np\n",
    "from pylab import *\n",
    "import matplotlib.pyplot as plt\n",
    "from scipy.special import erf"
   ]
  },
  {
   "cell_type": "code",
   "execution_count": 104,
   "metadata": {},
   "outputs": [],
   "source": [
    "# some plotting settings\n",
    "rc('text', usetex=True)\n",
    "rc('font',**{'family':'serif','serif':['Palatino']})"
   ]
  },
  {
   "cell_type": "code",
   "execution_count": 134,
   "metadata": {},
   "outputs": [],
   "source": [
    "RUNS = 100000 # total runs for sampling\n",
    "\n",
    "Nbins = 100 # number of bins\n",
    "mubg = 10.0 # simulated background level per bin\n",
    "musig = 0.0 # simulated signal level for first bin\n",
    "\n",
    "TS = []"
   ]
  },
  {
   "cell_type": "code",
   "execution_count": 135,
   "metadata": {},
   "outputs": [],
   "source": [
    "# simulate and analyze samples with the given input parameters\n",
    "\n",
    "Ntot = Nbins*mubg + musig\n",
    "Nsig = musig\n",
    "\n",
    "B = np.ones(Nbins)*mubg # simulated background\n",
    "S = np.zeros(Nbins) # simulated signal\n",
    "S[0] += musig\n",
    "               \n",
    "for run in range(0,RUNS) :\n",
    "  \n",
    "    #simulate binwise Poisson fluctuations\n",
    "    bin = np.random.poisson(lam=S+B)\n",
    "    \n",
    "    #calcuate TS from maxLH (analytic version)\n",
    "    totevents = np.sum(bin)\n",
    "\n",
    "    bestfit = (bin[0]*Nbins-totevents)/(Nbins-1)\n",
    "    \n",
    "    if bestfit < 0.0 :\n",
    "        TS.append(0.0)\n",
    "    else :\n",
    "        temp = 0.0\n",
    "        if bin[0] > 0.0 :\n",
    "            temp += 2.*bin[0]*np.log((Nbins*1./(totevents*1.))*bin[0])\n",
    "        if totevents-bin[0] > 0.0 :\n",
    "            temp += 2.*(totevents-bin[0]*1.)*np.log((Nbins*1./(totevents*1.))*(totevents-bin[0])/(Nbins-1.0))\n",
    "        TS.append(temp)        "
   ]
  },
  {
   "cell_type": "code",
   "execution_count": 133,
   "metadata": {},
   "outputs": [
    {
     "data": {
      "image/png": "[encoded data removed]",
      "text/plain": [
       "<Figure size 576x432 with 1 Axes>"
      ]
     },
     "metadata": {
      "needs_background": "light"
     },
     "output_type": "display_data"
    }
   ],
   "source": [
    "NTS = 60 # number of bins to be shown in histograms\n",
    "delta = 0.5 # width of bins\n",
    "\n",
    "# create a histogram of one-dimensional chi-square distribution \n",
    "\n",
    "chi2x = []\n",
    "chi2y = []\n",
    "for i in range(0,NTS) :\n",
    "    chi2x.append((i+0.5)*delta)\n",
    "    chi2y.append(0.5*len(TS)*(erf(np.sqrt((i+1)*delta/2.))-erf(np.sqrt((i)*delta/2.))))\n",
    "chi2y[0] += 0.5*len(TS)  # create a histogram of one-dimensional chi-square distribution \n",
    "\n",
    "# plot histograms of simulation and prediction\n",
    "\n",
    "fig = figure(figsize=(8, 6))\n",
    "ax = fig.add_subplot(1,1,1)\n",
    "\n",
    "xlim([0,30])\n",
    "ylim([1e-1,len(TS)])\n",
    "\n",
    "title(r'total number of MC samples: ' + str(len(TS)),fontsize=16)\n",
    "xlabel(r'test statistic $\\lambda$',fontsize=16)\n",
    "ylabel(r'number of samples',fontsize=16)\n",
    "ax.tick_params(axis='both',which='both',direction='in')\n",
    "\n",
    "for tick in ax.xaxis.get_major_ticks() :\n",
    "    tick.label.set_fontsize(16) \n",
    "\n",
    "for tick in ax.yaxis.get_major_ticks() :\n",
    "    tick.label.set_fontsize(16)  \n",
    "    \n",
    "histTS = hist(TS,bins=np.arange(0,NTS*delta,delta),log=True,alpha=0.8,color=\"red\",\\\n",
    "              label=r'simulation ($\\mu_{\\rm bg} = ' + str(mubg) + r'$ and $\\mu_{\\rm sig} = ' + str(musig) + '$)')\n",
    "\n",
    "plot(chi2x,chi2y,color=\"black\",drawstyle='steps-mid',label=r'$\\chi_1$ distribution')\n",
    "\n",
    "leg = plt.legend(bbox_to_anchor=(0.95, 0.95), loc=1, borderaxespad=0.,fancybox=False,\\\n",
    "                 framealpha=0.0,frameon=True,numpoints=1, scatterpoints = 1,handlelength=1)\n",
    "for t in leg.get_texts() :\n",
    "    t.set_fontsize(14)"
   ]
  },
  {
   "cell_type": "code",
   "execution_count": null,
   "metadata": {},
   "outputs": [],
   "source": []
  }
 ],
 "metadata": {
  "kernelspec": {
   "display_name": "Python 3",
   "language": "python",
   "name": "python3"
  },
  "language_info": {
   "codemirror_mode": {
    "name": "ipython",
    "version": 3
   },
   "file_extension": ".py",
   "mimetype": "text/x-python",
   "name": "python",
   "nbconvert_exporter": "python",
   "pygments_lexer": "ipython3",
   "version": "3.7.7"
  }
 },
 "nbformat": 4,
 "nbformat_minor": 4
}
